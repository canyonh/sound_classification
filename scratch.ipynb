{
 "cells": [
  {
   "cell_type": "code",
   "execution_count": null,
   "metadata": {},
   "outputs": [],
   "source": [
    "import os\n",
    "import glob\n",
    "import librosa\n",
    "import random\n",
    "import numpy as np\n",
    "import librosa.display\n",
    "import matplotlib.pyplot as plt\n",
    "from pydub import AudioSegment\n",
    "from scipy.special import comb\n",
    "%matplotlib inline\n",
    "\n",
    "\n",
    "# directories\n",
    "work_dir = os.getcwd()\n",
    "sample_dir = os.path.join(work_dir, \"samples\")\n",
    "source_dir = os.path.join(work_dir, \"audio_data\")\n",
    "\n",
    "if not os.path.exists(sample_dir):\n",
    "    os.mkdir(sample_dir)\n"
   ]
  },
  {
   "cell_type": "code",
   "execution_count": null,
   "metadata": {},
   "outputs": [],
   "source": [
    "def PlotWaves(sound_names,raw_sounds):\n",
    "    fig = plt.figure(figsize=(25,60))\n",
    "    i = 1\n",
    "    for n,f in zip(sound_names,raw_sounds):\n",
    "        plt.subplot(10,1,i)\n",
    "        librosa.display.waveplot(np.array(f.raw_data),sr=22050)\n",
    "        plt.title(n)\n",
    "        i += 1\n",
    "    plt.suptitle(\"Figure 1: Waveplot\",x=0.5, y=0.915,fontsize=18)\n",
    "    plt.show()    \n",
    "    \n",
    "def LoadAudioFile(wave_names, sounds):            \n",
    "    files = glob.glob(os.path.join(source_dir, \"*.wav\"))\n",
    "    files.sort()\n",
    "    max_length = 0\n",
    "    for f in files:\n",
    "        sound = AudioSegment.from_file(f, format=\"wav\")\n",
    "        sounds.append(sound)\n",
    "        name = os.path.basename(f)\n",
    "        wave_names.append(name[:name.index('.')])\n",
    "        print(\"wave: %s loaded %d samples\" % (name, len(sound)))\n",
    "        max_length = max(max_length, len(sound))\n",
    "    return max_length\n",
    "\n",
    "def GenerateSample(wave_names_in, sounds_in, num_samples):\n",
    "    assert len(wave_names_in) == len(sounds_in)\n",
    "    samples_cnt_in = len(wave_names_in)\n",
    "    for i in range(samples_cnt_in):\n",
    "        s = sounds_in[i]\n",
    "        audio_len = len(s)\n",
    "        repeat_audio = s + s\n",
    "        for j in range(num_samples):\n",
    "            start = random.randrange(0, audio_len)\n",
    "            end = start + audio_len\n",
    "            new_name = os.path.join(sample_dir, wave_names_in[i] + \"-\" + str(j) + \".wav\")\n",
    "            #print(\"new_name: %s(%d), start: %d, end: %d\" % (os.path.basename(new_name), len(repeat_audio), start, end))\n",
    "            sj = repeat_audio[start:end]\n",
    "            sj.export(new_name, format=\"wav\")\n",
    "    return\n",
    "        \n",
    "# not used anymore\n",
    "#def CalculateCombi():\n",
    "#    sum = 0\n",
    "#    slice = 3\n",
    "#    for i in range(1, 7):\n",
    "#        c = comb(7, i) * (slice ** i)\n",
    "#        print(c)\n",
    "#        sum += c        \n",
    "#    print(\"sum = %d\" %(sum))\n",
    "#    return\n",
    "\n",
    "#def ExplodeCombination(files):\n",
    "#    samples = []    \n",
    "#    total_combi = 2 ** len(wave_names)\n",
    "#    for i in range(total_combi):\n",
    "#        name = None\n",
    "#        mix = AudioSegment.silent(duration=max_length)\n",
    "#        for j in range(len(wave_names)):\n",
    "#            if i & (1 << j) != 0:\n",
    "#                mix = mix.overlay(sounds[j])\n",
    "#                if name == None:\n",
    "#                    name = wave_names[j]\n",
    "#                else:\n",
    "#                    name += (\"-\" + wave_names[j])\n",
    "#        samples.append((name, mix))\n",
    "#        if name != None:\n",
    "#            print(name, mix, len(mix))\n",
    "#            mix.export(os.path.join(output_dir, name) + \".wav\", format=\"wav\")\n",
    "#    return\n",
    "\n",
    "#def GenerateTraingData(source_dir):\n",
    "#    files = glob.glob(os.path.join(work_dir, source_dir, \"*.wav\"))\n",
    "#    ExplodeCombination(files)\n",
    "#    return"
   ]
  },
  {
   "cell_type": "code",
   "execution_count": null,
   "metadata": {},
   "outputs": [],
   "source": [
    "#wave names and sound files\n",
    "random.seed()\n",
    "wave_names = []\n",
    "sounds = []\n",
    "max_length = 0\n",
    "max_length = LoadAudioFile(wave_names, sounds)\n",
    "print(\"max_length=%d\" % (max_length))\n",
    "GenerateSample(wave_names, sounds, 10)"
   ]
  },
  {
   "cell_type": "code",
   "execution_count": null,
   "metadata": {
    "collapsed": true
   },
   "outputs": [],
   "source": []
  },
  {
   "cell_type": "code",
   "execution_count": null,
   "metadata": {
    "collapsed": true
   },
   "outputs": [],
   "source": []
  }
 ],
 "metadata": {
  "kernelspec": {
   "display_name": "Python 2",
   "language": "python",
   "name": "python2"
  },
  "language_info": {
   "codemirror_mode": {
    "name": "ipython",
    "version": 2
   },
   "file_extension": ".py",
   "mimetype": "text/x-python",
   "name": "python",
   "nbconvert_exporter": "python",
   "pygments_lexer": "ipython2",
   "version": "2.7.12"
  }
 },
 "nbformat": 4,
 "nbformat_minor": 2
}
