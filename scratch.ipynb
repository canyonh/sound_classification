{
 "cells": [
  {
   "cell_type": "code",
   "execution_count": null,
   "metadata": {},
   "outputs": [],
   "source": [
    "from pydub import AudioSegment\n",
    "import glob\n",
    "import os"
   ]
  },
  {
   "cell_type": "code",
   "execution_count": null,
   "metadata": {},
   "outputs": [],
   "source": [
    "def ExplodeCombination(files):\n",
    "    output_dir = os.path.join(os.getcwd(), \"samples\")\n",
    "    if not os.path.exists(output_dir):\n",
    "        os.mkdir(output_dir)\n",
    "        \n",
    "    wave_names = []\n",
    "    sounds = []\n",
    "    max_length = 0\n",
    "    for f in files:\n",
    "        sound = AudioSegment.from_file(f, format=\"wav\")\n",
    "        sounds.append(sound)\n",
    "        name = os.path.basename(f)\n",
    "        wave_names.append(name[:name.index('.')])\n",
    "        print(len(sound))\n",
    "        max_length = max(max_length, len(sound))\n",
    "\n",
    "    print(max_length)\n",
    "    #for f in wave_names:\n",
    "    #    print(f)\n",
    "        \n",
    "    #for s in sounds:\n",
    "    #    print(s)\n",
    "    samples = []    \n",
    "    total_combi = 2 ** len(wave_names)\n",
    "    for i in range(total_combi):\n",
    "        name = None\n",
    "        mix = AudioSegment.silent(duration=max_length)\n",
    "        for j in range(len(wave_names)):\n",
    "            if i & (1 << j) != 0:\n",
    "                mix = mix.overlay(sounds[j])\n",
    "                if name == None:\n",
    "                    name = wave_names[j]\n",
    "                else:\n",
    "                    name += (\"-\" + wave_names[j])\n",
    "        samples.append((name, mix))\n",
    "        if name != None:\n",
    "            print(name, mix, len(mix))\n",
    "            mix.export(os.path.join(output_dir, name) + \".wav\", format=\"wav\")\n",
    "    return\n",
    "\n",
    "def GenerateTraingData(source_dir):\n",
    "    cwd = os.getcwd()\n",
    "    files = glob.glob(os.path.join(cwd, source_dir, \"*.wav\"))\n",
    "    #print(files)\n",
    "    ExplodeCombination(files)\n",
    "    return\n"
   ]
  },
  {
   "cell_type": "code",
   "execution_count": null,
   "metadata": {},
   "outputs": [],
   "source": [
    "GenerateTraingData(\"audio_data\")"
   ]
  },
  {
   "cell_type": "code",
   "execution_count": null,
   "metadata": {
    "collapsed": true
   },
   "outputs": [],
   "source": []
  },
  {
   "cell_type": "code",
   "execution_count": null,
   "metadata": {
    "collapsed": true
   },
   "outputs": [],
   "source": []
  }
 ],
 "metadata": {
  "kernelspec": {
   "display_name": "Python 2",
   "language": "python",
   "name": "python2"
  },
  "language_info": {
   "codemirror_mode": {
    "name": "ipython",
    "version": 2
   },
   "file_extension": ".py",
   "mimetype": "text/x-python",
   "name": "python",
   "nbconvert_exporter": "python",
   "pygments_lexer": "ipython2",
   "version": "2.7.12"
  }
 },
 "nbformat": 4,
 "nbformat_minor": 2
}
